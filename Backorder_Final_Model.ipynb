{
  "nbformat": 4,
  "nbformat_minor": 0,
  "metadata": {
    "colab": {
      "name": "Backorder_Final_Model.ipynb",
      "provenance": [],
      "collapsed_sections": []
    },
    "kernelspec": {
      "display_name": "Python 3",
      "name": "python3"
    }
  },
  "cells": [
    {
      "cell_type": "markdown",
      "metadata": {
        "id": "WF9FrlNfGkq1"
      },
      "source": [
        "# **Back Order Prediction Final Model for Deployment**"
      ]
    },
    {
      "cell_type": "code",
      "metadata": {
        "id": "BsNVQ4MN8n5D"
      },
      "source": [
        "#import libraries\n",
        "import pandas as pd\n",
        "import numpy as np"
      ],
      "execution_count": 29,
      "outputs": []
    },
    {
      "cell_type": "code",
      "metadata": {
        "id": "3-EeX8SuEjK5"
      },
      "source": [
        "data=pd.read_csv(\"Training_Dataset_v2.csv\")                         "
      ],
      "execution_count": 30,
      "outputs": []
    },
    {
      "cell_type": "markdown",
      "metadata": {
        "id": "xn6AtOndq-f1"
      },
      "source": [
        "I m considering only those features to train our model which are selected by our feature selection steps by random  forest features_importance."
      ]
    },
    {
      "cell_type": "code",
      "metadata": {
        "id": "oyRE4U23EqM9",
        "outputId": "5751792f-8031-4758-8c2f-1996a36e2266",
        "colab": {
          "base_uri": "https://localhost:8080/",
          "height": 211
        }
      },
      "source": [
        "train_df=data[['national_inv', 'forecast_3_month', 'forecast_6_month',\n",
        "       'forecast_9_month', 'sales_1_month', 'sales_3_month', 'sales_6_month',\n",
        "       'sales_9_month', 'min_bank', 'perf_6_month_avg', 'perf_12_month_avg','went_on_backorder']]\n",
        "train_df.head()"
      ],
      "execution_count": 31,
      "outputs": [
        {
          "output_type": "execute_result",
          "data": {
            "text/html": [
              "<div>\n",
              "<style scoped>\n",
              "    .dataframe tbody tr th:only-of-type {\n",
              "        vertical-align: middle;\n",
              "    }\n",
              "\n",
              "    .dataframe tbody tr th {\n",
              "        vertical-align: top;\n",
              "    }\n",
              "\n",
              "    .dataframe thead th {\n",
              "        text-align: right;\n",
              "    }\n",
              "</style>\n",
              "<table border=\"1\" class=\"dataframe\">\n",
              "  <thead>\n",
              "    <tr style=\"text-align: right;\">\n",
              "      <th></th>\n",
              "      <th>national_inv</th>\n",
              "      <th>forecast_3_month</th>\n",
              "      <th>forecast_6_month</th>\n",
              "      <th>forecast_9_month</th>\n",
              "      <th>sales_1_month</th>\n",
              "      <th>sales_3_month</th>\n",
              "      <th>sales_6_month</th>\n",
              "      <th>sales_9_month</th>\n",
              "      <th>min_bank</th>\n",
              "      <th>perf_6_month_avg</th>\n",
              "      <th>perf_12_month_avg</th>\n",
              "      <th>went_on_backorder</th>\n",
              "    </tr>\n",
              "  </thead>\n",
              "  <tbody>\n",
              "    <tr>\n",
              "      <th>0</th>\n",
              "      <td>0.0</td>\n",
              "      <td>0.0</td>\n",
              "      <td>0.0</td>\n",
              "      <td>0.0</td>\n",
              "      <td>0.0</td>\n",
              "      <td>0.0</td>\n",
              "      <td>0.0</td>\n",
              "      <td>0.0</td>\n",
              "      <td>0.0</td>\n",
              "      <td>-99.00</td>\n",
              "      <td>-99.00</td>\n",
              "      <td>No</td>\n",
              "    </tr>\n",
              "    <tr>\n",
              "      <th>1</th>\n",
              "      <td>2.0</td>\n",
              "      <td>0.0</td>\n",
              "      <td>0.0</td>\n",
              "      <td>0.0</td>\n",
              "      <td>0.0</td>\n",
              "      <td>0.0</td>\n",
              "      <td>0.0</td>\n",
              "      <td>0.0</td>\n",
              "      <td>0.0</td>\n",
              "      <td>0.99</td>\n",
              "      <td>0.99</td>\n",
              "      <td>No</td>\n",
              "    </tr>\n",
              "    <tr>\n",
              "      <th>2</th>\n",
              "      <td>2.0</td>\n",
              "      <td>0.0</td>\n",
              "      <td>0.0</td>\n",
              "      <td>0.0</td>\n",
              "      <td>0.0</td>\n",
              "      <td>0.0</td>\n",
              "      <td>0.0</td>\n",
              "      <td>0.0</td>\n",
              "      <td>0.0</td>\n",
              "      <td>-99.00</td>\n",
              "      <td>-99.00</td>\n",
              "      <td>No</td>\n",
              "    </tr>\n",
              "    <tr>\n",
              "      <th>3</th>\n",
              "      <td>7.0</td>\n",
              "      <td>0.0</td>\n",
              "      <td>0.0</td>\n",
              "      <td>0.0</td>\n",
              "      <td>0.0</td>\n",
              "      <td>0.0</td>\n",
              "      <td>0.0</td>\n",
              "      <td>0.0</td>\n",
              "      <td>1.0</td>\n",
              "      <td>0.10</td>\n",
              "      <td>0.13</td>\n",
              "      <td>No</td>\n",
              "    </tr>\n",
              "    <tr>\n",
              "      <th>4</th>\n",
              "      <td>8.0</td>\n",
              "      <td>0.0</td>\n",
              "      <td>0.0</td>\n",
              "      <td>0.0</td>\n",
              "      <td>0.0</td>\n",
              "      <td>0.0</td>\n",
              "      <td>0.0</td>\n",
              "      <td>4.0</td>\n",
              "      <td>2.0</td>\n",
              "      <td>-99.00</td>\n",
              "      <td>-99.00</td>\n",
              "      <td>No</td>\n",
              "    </tr>\n",
              "  </tbody>\n",
              "</table>\n",
              "</div>"
            ],
            "text/plain": [
              "   national_inv  forecast_3_month  ...  perf_12_month_avg  went_on_backorder\n",
              "0           0.0               0.0  ...             -99.00                 No\n",
              "1           2.0               0.0  ...               0.99                 No\n",
              "2           2.0               0.0  ...             -99.00                 No\n",
              "3           7.0               0.0  ...               0.13                 No\n",
              "4           8.0               0.0  ...             -99.00                 No\n",
              "\n",
              "[5 rows x 12 columns]"
            ]
          },
          "metadata": {
            "tags": []
          },
          "execution_count": 31
        }
      ]
    },
    {
      "cell_type": "code",
      "metadata": {
        "id": "bf15g8R8e3Q4"
      },
      "source": [
        "#impute missing values\n",
        "train_df.dropna(how='any',inplace=True)"
      ],
      "execution_count": 32,
      "outputs": []
    },
    {
      "cell_type": "code",
      "metadata": {
        "id": "mKqJtHvrLLfs"
      },
      "source": [
        "Categorical_features=train_df.select_dtypes(include=['object'])           #encoding of categorical features\n",
        "for col in Categorical_features:\n",
        "    train_df[col] = train_df[col].map({\"Yes\" : 0, \"No\" : 1})"
      ],
      "execution_count": 33,
      "outputs": []
    },
    {
      "cell_type": "code",
      "metadata": {
        "id": "Q5el-RRFzQdg"
      },
      "source": [
        "X = train_df.drop([\"went_on_backorder\"],axis=1)\n",
        "y=train_df['went_on_backorder']"
      ],
      "execution_count": 34,
      "outputs": []
    },
    {
      "cell_type": "code",
      "metadata": {
        "id": "X60OSTCZ9-fv"
      },
      "source": [
        "from sklearn.model_selection import train_test_split\n",
        "x_train, x_test, y_train,y_test = train_test_split(X,y,test_size = 0.3)"
      ],
      "execution_count": 35,
      "outputs": []
    },
    {
      "cell_type": "code",
      "metadata": {
        "id": "8FEsBUq-LHeO",
        "outputId": "cb810571-8198-49f1-8c00-500c892676bc",
        "colab": {
          "base_uri": "https://localhost:8080/",
          "height": 82
        }
      },
      "source": [
        "print(\"Train Set Size : \",x_train.shape)\n",
        "print(\"Train Target Set Size : \",y_train.shape)\n",
        "print(\"Test  Set Size : \",x_test.shape)\n",
        "print(\"Test  Target Set Size : \",y_test.shape)"
      ],
      "execution_count": 36,
      "outputs": [
        {
          "output_type": "stream",
          "text": [
            "Train Set Size :  (1181502, 11)\n",
            "Train Target Set Size :  (1181502,)\n",
            "Test  Set Size :  (506358, 11)\n",
            "Test  Target Set Size :  (506358,)\n"
          ],
          "name": "stdout"
        }
      ]
    },
    {
      "cell_type": "code",
      "metadata": {
        "id": "sP62v_h2uW46"
      },
      "source": [
        "#ignore warnings\n",
        "import warnings\n",
        "warnings.filterwarnings('ignore')"
      ],
      "execution_count": 37,
      "outputs": []
    },
    {
      "cell_type": "code",
      "metadata": {
        "id": "e4kg3pYrIP6Q",
        "outputId": "cba783dc-3d5d-4d54-bc7d-34c5087e0a4a",
        "colab": {
          "base_uri": "https://localhost:8080/",
          "height": 33
        }
      },
      "source": [
        "from imblearn.over_sampling import SMOTE    #lets balance the data\n",
        "sm = SMOTE(random_state=12, ratio = 1.0)\n",
        "x_train, y_train = sm.fit_sample(x_train, y_train)\n",
        "x_train.shape, y_train.shape"
      ],
      "execution_count": 38,
      "outputs": [
        {
          "output_type": "execute_result",
          "data": {
            "text/plain": [
              "((2347254, 11), (2347254,))"
            ]
          },
          "metadata": {
            "tags": []
          },
          "execution_count": 38
        }
      ]
    },
    {
      "cell_type": "markdown",
      "metadata": {
        "id": "Ib5hiUNYGbFk"
      },
      "source": [
        "# **Model Building**"
      ]
    },
    {
      "cell_type": "code",
      "metadata": {
        "id": "hby1pdusHV2-"
      },
      "source": [
        "from sklearn.metrics import accuracy_score, confusion_matrix, roc_curve, roc_auc_score,classification_report\n",
        "from sklearn.ensemble import RandomForestClassifier"
      ],
      "execution_count": 39,
      "outputs": []
    },
    {
      "cell_type": "markdown",
      "metadata": {
        "id": "tpkVkHT7JfFk"
      },
      "source": [
        "**Random Forest**"
      ]
    },
    {
      "cell_type": "code",
      "metadata": {
        "id": "FjWJnN-9decw",
        "outputId": "1e1a20a7-37d1-4507-a5b0-2a46fcce68bc",
        "colab": {
          "base_uri": "https://localhost:8080/",
          "height": 50
        }
      },
      "source": [
        "random_forest = RandomForestClassifier(n_estimators=100)\n",
        "random_forest.fit(x_train, y_train)\n",
        "Y_prediction = random_forest.predict(x_test)\n",
        "\n",
        "random_forest.score(x_train, y_train)\n",
        "acc_random_forest = round(random_forest.score(x_train, y_train) * 100, 2)\n",
        "print(acc_random_forest)\n",
        "print(random_forest.score(x_test,y_test))"
      ],
      "execution_count": 40,
      "outputs": [
        {
          "output_type": "stream",
          "text": [
            "99.61\n",
            "0.9904968421551551\n"
          ],
          "name": "stdout"
        }
      ]
    },
    {
      "cell_type": "code",
      "metadata": {
        "id": "UjvxUV34VwO-",
        "outputId": "e2ca3e95-3812-4d3b-9cd9-b13a1ad81b58",
        "colab": {
          "base_uri": "https://localhost:8080/",
          "height": 196
        }
      },
      "source": [
        "print(classification_report(y_test,Y_prediction))\n",
        "# Confusion Matrix\n",
        "conf_mat = confusion_matrix(y_test,Y_prediction)\n",
        "print(conf_mat)"
      ],
      "execution_count": 41,
      "outputs": [
        {
          "output_type": "stream",
          "text": [
            "              precision    recall  f1-score   support\n",
            "\n",
            "           0       0.34      0.42      0.37      3418\n",
            "           1       1.00      0.99      1.00    502940\n",
            "\n",
            "    accuracy                           0.99    506358\n",
            "   macro avg       0.67      0.71      0.68    506358\n",
            "weighted avg       0.99      0.99      0.99    506358\n",
            "\n",
            "[[  1426   1992]\n",
            " [  2820 500120]]\n"
          ],
          "name": "stdout"
        }
      ]
    },
    {
      "cell_type": "markdown",
      "metadata": {
        "id": "IX75dAptvLW0"
      },
      "source": [
        "**save Model**"
      ]
    },
    {
      "cell_type": "code",
      "metadata": {
        "id": "jSeLtk3OvFRK"
      },
      "source": [
        "import pickle"
      ],
      "execution_count": 42,
      "outputs": []
    },
    {
      "cell_type": "code",
      "metadata": {
        "id": "nD3Yw2TPvQ5o"
      },
      "source": [
        "# saving the model to the local file system\n",
        "filename = 'backorder_model.pickle'\n",
        "pickle.dump(random_forest, open(filename, 'wb'))"
      ],
      "execution_count": 43,
      "outputs": []
    },
    {
      "cell_type": "code",
      "metadata": {
        "id": "xPYmbYp4vW5Z",
        "outputId": "9bad22c1-61e0-4a73-a8bd-b1dc3356cb34",
        "colab": {
          "base_uri": "https://localhost:8080/",
          "height": 33
        }
      },
      "source": [
        "# prediction using the saved model\n",
        "loaded_model = pickle.load(open(filename, 'rb'))\n",
        "a=loaded_model.predict(([[5,6,8,3,2,9,12,34,8,4,75]]))\n",
        "a"
      ],
      "execution_count": 44,
      "outputs": [
        {
          "output_type": "execute_result",
          "data": {
            "text/plain": [
              "array([1])"
            ]
          },
          "metadata": {
            "tags": []
          },
          "execution_count": 44
        }
      ]
    },
    {
      "cell_type": "code",
      "metadata": {
        "id": "YKbqMeSZvYLI"
      },
      "source": [
        ""
      ],
      "execution_count": 44,
      "outputs": []
    }
  ]
}